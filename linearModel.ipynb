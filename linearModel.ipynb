{
 "cells": [
  {
   "cell_type": "code",
   "execution_count": 16,
   "metadata": {},
   "outputs": [],
   "source": [
    "import numpy as np\n",
    "class LinearModel:\n",
    "    def _init_(self,*args):\n",
    "        self.x = None\n",
    "        self.y = None\n",
    "        \n",
    "    def train(self,x,y):\n",
    "        self.x = np.array(x)\n",
    "        self.y = np.array(y)\n",
    "        self.n = len(self.x)\n",
    "        self.x_sum = self.x.sum()\n",
    "        self.y_sum = self.y.sum()\n",
    "        self.xy = (self.x * self.y)\n",
    "        self.xy_sum = (self.xy).sum()\n",
    "        self.x_sqrd = self.x**2\n",
    "        self.x_sqrd_sum = (self.x_sqrd).sum()\n",
    "        self.num = (self.n * self.xy_sum) - (self.x_sum * self.y_sum)\n",
    "        self.denum = (self.n * self.x_sqrd_sum) - (self.x_sum)**2\n",
    "        self.coef = self.num / self.denum\n",
    "        self.intercept = self.y.mean() - self.coef *self.x.mean()\n",
    "        \n",
    "    def predict(self,x):\n",
    "        return self.intercept + self.coef * np.array(x)\n",
    "        "
   ]
  },
  {
   "cell_type": "code",
   "execution_count": 17,
   "metadata": {},
   "outputs": [],
   "source": [
    "model1 = LinearModel()"
   ]
  },
  {
   "cell_type": "code",
   "execution_count": 18,
   "metadata": {},
   "outputs": [],
   "source": [
    "data = np.array([[4.2,8.4],[2.7,6.2],[8.9,12.5],[8.2,10.5],[10.2,13]])"
   ]
  },
  {
   "cell_type": "code",
   "execution_count": 19,
   "metadata": {},
   "outputs": [
    {
     "data": {
      "text/plain": [
       "(5, 2)"
      ]
     },
     "execution_count": 19,
     "metadata": {},
     "output_type": "execute_result"
    }
   ],
   "source": [
    "data.shape"
   ]
  },
  {
   "cell_type": "code",
   "execution_count": 27,
   "metadata": {},
   "outputs": [],
   "source": [
    "model1.train(x,y)"
   ]
  },
  {
   "cell_type": "code",
   "execution_count": 25,
   "metadata": {},
   "outputs": [],
   "source": [
    "x=data[:,0]\n",
    "y=data[:,1]"
   ]
  },
  {
   "cell_type": "code",
   "execution_count": null,
   "metadata": {},
   "outputs": [],
   "source": [
    "model1.predict([18.8,18.8])"
   ]
  },
  {
   "cell_type": "code",
   "execution_count": null,
   "metadata": {},
   "outputs": [],
   "source": []
  },
  {
   "cell_type": "code",
   "execution_count": null,
   "metadata": {},
   "outputs": [],
   "source": []
  }
 ],
 "metadata": {
  "kernelspec": {
   "display_name": "Python 3",
   "language": "python",
   "name": "python3"
  },
  "language_info": {
   "codemirror_mode": {
    "name": "ipython",
    "version": 3
   },
   "file_extension": ".py",
   "mimetype": "text/x-python",
   "name": "python",
   "nbconvert_exporter": "python",
   "pygments_lexer": "ipython3",
   "version": "3.6.5"
  }
 },
 "nbformat": 4,
 "nbformat_minor": 2
}
