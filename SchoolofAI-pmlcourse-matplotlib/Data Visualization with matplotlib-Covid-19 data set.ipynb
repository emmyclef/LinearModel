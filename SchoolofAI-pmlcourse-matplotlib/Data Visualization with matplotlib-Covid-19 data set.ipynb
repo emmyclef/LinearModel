{
 "cells": [
  {
   "cell_type": "markdown",
   "metadata": {},
   "source": [
    "# Data Visualization with matplotlib"
   ]
  },
  {
   "cell_type": "markdown",
   "metadata": {},
   "source": [
    "## Visualization using the matplotlib library\n",
    "\n",
    " __*Customization of plots is left as an excercise for the students to work on*__"
   ]
  },
  {
   "cell_type": "code",
   "execution_count": 1,
   "metadata": {},
   "outputs": [
    {
     "name": "stdout",
     "output_type": "stream",
     "text": [
      "<_io.TextIOWrapper name='covid_19_data.csv' mode='r' encoding='cp1252'>\n"
     ]
    }
   ],
   "source": [
    "\n",
    "import csv #Imports csv module to load data into python namespace\n",
    "with open(\"covid_19_data.csv\",\"r\") as file:# Using context manager to handle opening of file. File is sopened in read mode\n",
    "    print(file) # prints a file object "
   ]
  },
  {
   "cell_type": "code",
   "execution_count": 2,
   "metadata": {},
   "outputs": [
    {
     "name": "stdout",
     "output_type": "stream",
     "text": [
      "SNo,ObservationDate,Province/State,Country/Region,Last Update,Confirmed,Deaths,Recovered\n",
      "\n"
     ]
    }
   ],
   "source": [
    "with open(\"covid_19_data.csv\",\"r\") as file:\n",
    "    for row in file:\n",
    "        print(row)# prints each row of the file \n",
    "        break"
   ]
  },
  {
   "cell_type": "markdown",
   "metadata": {},
   "source": [
    "Since the above code prints each row as a string , more manipulations needs to be done to extract required data items , hence the need of the csv module to ease the process.\n",
    "This is what the snippet below takes care of"
   ]
  },
  {
   "cell_type": "code",
   "execution_count": 3,
   "metadata": {},
   "outputs": [
    {
     "name": "stdout",
     "output_type": "stream",
     "text": [
      "['SNo', 'ObservationDate', 'Province/State', 'Country/Region', 'Last Update', 'Confirmed', 'Deaths', 'Recovered']\n"
     ]
    }
   ],
   "source": [
    "with open(\"covid_19_data.csv\",\"r\") as file:\n",
    "    csv_reader=csv.reader(file) #Uses the read method to extract items in each row as a list item\n",
    "    for row in csv_reader:# csv_reader is an iterable\n",
    "        print(row)# prints each observation as a list\n",
    "        break"
   ]
  },
  {
   "cell_type": "markdown",
   "metadata": {},
   "source": [
    "## Convertion to hash map\n",
    "\n",
    "It will be easier to work with a dictionary  instead of a list , hence the csv *DictRader* method is used to take care of this"
   ]
  },
  {
   "cell_type": "code",
   "execution_count": 4,
   "metadata": {},
   "outputs": [
    {
     "name": "stdout",
     "output_type": "stream",
     "text": [
      "OrderedDict([('SNo', '1'), ('ObservationDate', '01/22/2020'), ('Province/State', 'Anhui'), ('Country/Region', 'Mainland China'), ('Last Update', '1/22/2020 17:00'), ('Confirmed', '1.0'), ('Deaths', '0.0'), ('Recovered', '0.0')])\n"
     ]
    }
   ],
   "source": [
    "with open(\"covid_19_data.csv\",\"r\") as file:\n",
    "    csv_reader=csv.DictReader(file)# Returns a dictionary\n",
    "    for row in csv_reader:\n",
    "        print(row)\n",
    "        break"
   ]
  },
  {
   "cell_type": "code",
   "execution_count": 22,
   "metadata": {},
   "outputs": [
    {
     "name": "stdout",
     "output_type": "stream",
     "text": [
      "1.0\n"
     ]
    }
   ],
   "source": [
    "with open(\"covid_19_data.csv\",\"r\") as file:\n",
    "    csv_reader=csv.DictReader(file)\n",
    "    for row in csv_reader:\n",
    "        print(row['Confirmed'])# returns the item with a key of \"confirmed\"\n",
    "        break"
   ]
  },
  {
   "cell_type": "code",
   "execution_count": 30,
   "metadata": {},
   "outputs": [
    {
     "name": "stdout",
     "output_type": "stream",
     "text": [
      "[3629156.0, 116833.0, 1357313.0]\n"
     ]
    }
   ],
   "source": [
    "with open(\"covid_19_data.csv\",\"r\") as file:\n",
    "    csv_reader=csv.DictReader(file)\n",
    "    sum_of_confirmed_cases=0 # initialises the total confirmed cases\n",
    "    sum_of_deaths=0 # initialises the total number of deaths\n",
    "    sum_of_recovered_cases=0 # initialises the total number of recovery\n",
    "    sum_of_cases=[]\n",
    "    for row in csv_reader:\n",
    "        sum_of_confirmed_cases +=float(row['Confirmed'])\n",
    "        sum_of_deaths +=float(row['Deaths'])\n",
    "        sum_of_recovered_cases +=float(row['Recovered'])\n",
    "sum_of_cases.append(sum_of_confirmed_cases)\n",
    "sum_of_cases.append(sum_of_deaths)\n",
    "sum_of_cases.append(sum_of_recovered_cases)\n",
    "print(sum_of_cases)\n",
    "cases=[\"Confirmed\",\"Deaths\",\"Recovered\"]"
   ]
  },
  {
   "cell_type": "code",
   "execution_count": 28,
   "metadata": {},
   "outputs": [
    {
     "data": {
      "text/plain": [
       "<BarContainer object of 3 artists>"
      ]
     },
     "execution_count": 28,
     "metadata": {},
     "output_type": "execute_result"
    },
    {
     "data": {
      "image/png": "[encoded data removed]",
      "text/plain": [
       "<Figure size 432x288 with 1 Axes>"
      ]
     },
     "metadata": {},
     "output_type": "display_data"
    }
   ],
   "source": [
    "import matplotlib.pyplot as plt\n",
    "%matplotlib inline\n",
    "plt.bar(cases,sum_of_cases)"
   ]
  },
  {
   "cell_type": "code",
   "execution_count": 29,
   "metadata": {},
   "outputs": [
    {
     "data": {
      "text/plain": [
       "([<matplotlib.patches.Wedge at 0xc7ba94c550>,\n",
       "  <matplotlib.patches.Wedge at 0xc7ba94c9e8>,\n",
       "  <matplotlib.patches.Wedge at 0xc7ba94cf28>],\n",
       " [Text(-0.677303,0.866753,'Confirmed'),\n",
       "  Text(-0.257099,-1.4778,'Deaths'),\n",
       "  Text(0.737837,-0.815841,'Recovered')])"
      ]
     },
     "execution_count": 29,
     "metadata": {},
     "output_type": "execute_result"
    },
    {
     "data": {
      "image/png": "[encoded data removed]",
      "text/plain": [
       "<Figure size 432x288 with 1 Axes>"
      ]
     },
     "metadata": {},
     "output_type": "display_data"
    }
   ],
   "source": [
    "plt.pie(sum_of_cases,labels=cases,explode=(0,0.4,0)) #explode=(0,0.4,0) extracts the second item in the list"
   ]
  },
  {
   "cell_type": "markdown",
   "metadata": {},
   "source": [
    "The code below is a modification to snippet [6] above. It initializes each sum as an element of a list"
   ]
  },
  {
   "cell_type": "code",
   "execution_count": 25,
   "metadata": {},
   "outputs": [
    {
     "name": "stdout",
     "output_type": "stream",
     "text": [
      "[3629156.0, 116833.0, 1357313.0]\n"
     ]
    }
   ],
   "source": [
    "with open(\"covid_19_data.csv\",\"r\") as file:\n",
    "    csv_reader=csv.DictReader(file)\n",
    "    sum_of_cases=[0]*3 # create the list [0,0,0]\n",
    "    for row in csv_reader:\n",
    "        sum_of_cases[0] +=float(row['Confirmed']) # converts the item to a float , then increaments the value in the list\n",
    "        sum_of_cases[1] +=float(row['Deaths'])\n",
    "        sum_of_cases[2] +=float(row['Recovered'])\n",
    "\n",
    "print(sum_of_cases)\n",
    "cases=[\"Confirmed\",\"Deaths\",\"Recovered\"]"
   ]
  },
  {
   "cell_type": "markdown",
   "metadata": {},
   "source": [
    "## Rates of cases"
   ]
  },
  {
   "cell_type": "code",
   "execution_count": 26,
   "metadata": {},
   "outputs": [],
   "source": [
    "with open(\"covid_19_data.csv\",\"r\") as file:\n",
    "    csv_reader=csv.DictReader(file)\n",
    "    reported_cases={\"Confirmed\":[],\"Deaths\":[],\"Recovered\":[]} #  A dictionary of the list of reported cases(initialization)\n",
    "    for row in csv_reader:\n",
    "        reported_cases[\"Confirmed\"].append(float(row['Confirmed']))# appends each item to the list in the dictionary\n",
    "        reported_cases[\"Deaths\"].append(float(row['Deaths']))\n",
    "        reported_cases['Recovered'].append(float(row['Recovered']))\n"
   ]
  },
  {
   "cell_type": "code",
   "execution_count": 11,
   "metadata": {},
   "outputs": [
    {
     "data": {
      "text/plain": [
       "[<matplotlib.lines.Line2D at 0xc7c2553198>]"
      ]
     },
     "execution_count": 11,
     "metadata": {},
     "output_type": "execute_result"
    },
    {
     "data": {
      "image/png": "[encoded data removed]",
      "text/plain": [
       "<Figure size 432x288 with 1 Axes>"
      ]
     },
     "metadata": {},
     "output_type": "display_data"
    }
   ],
   "source": [
    "plt.plot(range(1,len(reported_cases[\"Deaths\"])+1),reported_cases[\"Deaths\"]) # a line plot for the number of deaths\n",
    "#"
   ]
  },
  {
   "cell_type": "code",
   "execution_count": 12,
   "metadata": {},
   "outputs": [
    {
     "data": {
      "text/plain": [
       "<matplotlib.legend.Legend at 0xc7c25be898>"
      ]
     },
     "execution_count": 12,
     "metadata": {},
     "output_type": "execute_result"
    },
    {
     "data": {
      "image/png": "[encoded data removed]",
      "text/plain": [
       "<Figure size 432x288 with 1 Axes>"
      ]
     },
     "metadata": {},
     "output_type": "display_data"
    }
   ],
   "source": [
    "# A not recommended plot for number of Deaths and Recovery \n",
    "# In the plot , the cases for recovery over shadows that of deaths , since the numbers are more and it is the second plot\n",
    "plt.plot(range(1,len(reported_cases[\"Deaths\"])+1),reported_cases[\"Deaths\"],label=\"Deaths\")\n",
    "plt.plot(range(1,len(reported_cases[\"Recovered\"])+1),reported_cases[\"Recovered\"],label=\"Recovered\")\n",
    "plt.legend()"
   ]
  },
  {
   "cell_type": "code",
   "execution_count": 13,
   "metadata": {},
   "outputs": [
    {
     "data": {
      "text/plain": [
       "<matplotlib.legend.Legend at 0xc7c24b3ba8>"
      ]
     },
     "execution_count": 13,
     "metadata": {},
     "output_type": "execute_result"
    },
    {
     "data": {
      "image/png": "[encoded data removed]",
      "text/plain": [
       "<Figure size 432x288 with 1 Axes>"
      ]
     },
     "metadata": {},
     "output_type": "display_data"
    }
   ],
   "source": [
    "# The order of plot is reversed here to make the number of Deaths visible  \n",
    "plt.plot(range(1,len(reported_cases[\"Recovered\"])+1),reported_cases[\"Recovered\"],label=\"Recovered\")\n",
    "plt.plot(range(1,len(reported_cases[\"Deaths\"])+1),reported_cases[\"Deaths\"],label=\"Deaths\")\n",
    "plt.legend()"
   ]
  },
  {
   "cell_type": "markdown",
   "metadata": {},
   "source": [
    "Activities are given to the participants to use the stem/lollipop plot to visualize these seperately and on the same axis"
   ]
  },
  {
   "cell_type": "code",
   "execution_count": null,
   "metadata": {},
   "outputs": [],
   "source": []
  }
 ],
 "metadata": {
  "kernelspec": {
   "display_name": "Python 3",
   "language": "python",
   "name": "python3"
  },
  "language_info": {
   "codemirror_mode": {
    "name": "ipython",
    "version": 3
   },
   "file_extension": ".py",
   "mimetype": "text/x-python",
   "name": "python",
   "nbconvert_exporter": "python",
   "pygments_lexer": "ipython3",
   "version": "3.6.5"
  }
 },
 "nbformat": 4,
 "nbformat_minor": 2
}
